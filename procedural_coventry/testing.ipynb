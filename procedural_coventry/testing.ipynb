{
 "cells": [
  {
   "cell_type": "code",
   "execution_count": 3,
   "metadata": {},
   "outputs": [
    {
     "name": "stdout",
     "output_type": "stream",
     "text": [
      "{'a': 8}\n"
     ]
    }
   ],
   "source": [
    "def A(val):\n",
    "    return {'a': val}\n",
    "\n",
    "\n",
    "print(A(8))\n"
   ]
  }
 ],
 "metadata": {
  "kernelspec": {
   "display_name": "Python 3.8.8 ('base')",
   "language": "python",
   "name": "python3"
  },
  "language_info": {
   "codemirror_mode": {
    "name": "ipython",
    "version": 3
   },
   "file_extension": ".py",
   "mimetype": "text/x-python",
   "name": "python",
   "nbconvert_exporter": "python",
   "pygments_lexer": "ipython3",
   "version": "3.8.8"
  },
  "orig_nbformat": 4,
  "vscode": {
   "interpreter": {
    "hash": "f95992ca7281af48fd1c643f23306e3513faf94ded38def59d2370c7173835ed"
   }
  }
 },
 "nbformat": 4,
 "nbformat_minor": 2
}
