{
 "cells": [
  {
   "cell_type": "code",
   "execution_count": 46,
   "metadata": {},
   "outputs": [
    {
     "name": "stdout",
     "output_type": "stream",
     "text": [
      "new value\n",
      "{'shared': 'new value'}\n",
      "some value\n"
     ]
    }
   ],
   "source": [
    "class A:\n",
    "    shared = \"some value\"\n",
    "    \n",
    "a = A()\n",
    "# A.shared = \"new value\" # will chanee the class variable\n",
    "a.shared = \"new value\" # will create an instance variable on the spot not releveant top class vairbale\n",
    "print(a.shared)\n",
    "print(a.__dict__)\n",
    "b = A()  \n",
    "print(b.shared)\n"
   ]
  },
  {
   "cell_type": "code",
   "execution_count": 41,
   "metadata": {},
   "outputs": [
    {
     "data": {
      "text/plain": [
       "'some value'"
      ]
     },
     "execution_count": 41,
     "metadata": {},
     "output_type": "execute_result"
    }
   ],
   "source": [
    "class child(A):\n",
    "    pass \n",
    "\n",
    "c = child()\n",
    "c.shared"
   ]
  },
  {
   "cell_type": "code",
   "execution_count": 36,
   "metadata": {},
   "outputs": [
    {
     "data": {
      "text/plain": [
       "'some information'"
      ]
     },
     "execution_count": 36,
     "metadata": {},
     "output_type": "execute_result"
    }
   ],
   "source": [
    "class Messenger:\n",
    "    def __init__(self, **kwargs):\n",
    "        self.__dict__ = kwargs\n",
    "\n",
    "m = Messenger(info=\"some information\", b=['a', 'list'])\n",
    "\n",
    "m.info"
   ]
  },
  {
   "cell_type": "code",
   "execution_count": 37,
   "metadata": {},
   "outputs": [],
   "source": [
    "class BorgSingleton(object):\n",
    "  _shared_borg_state = {\"test\" : \"hamda is living rent free\"}\n",
    "   \n",
    "  def __new__(cls, *args, **kwargs):\n",
    "    obj = super(BorgSingleton, cls).__new__(cls, *args, **kwargs)\n",
    "    obj.__dict__ = cls._shared_borg_state\n",
    "    return obj\n",
    "   \n"
   ]
  },
  {
   "cell_type": "code",
   "execution_count": 26,
   "metadata": {},
   "outputs": [
    {
     "name": "stdout",
     "output_type": "stream",
     "text": [
      "<class 'dict'>\n"
     ]
    }
   ],
   "source": [
    "borg = BorgSingleton()\n",
    "borg2 = BorgSingleton()\n",
    "\n",
    "# borg._shared_borg_state['test'] = \"hamada is gone\"\n",
    "print(type(borg2._shared_borg_state))\n",
    "# borg.shared_variable"
   ]
  },
  {
   "cell_type": "code",
   "execution_count": 29,
   "metadata": {},
   "outputs": [
    {
     "name": "stdout",
     "output_type": "stream",
     "text": [
      "{'test': 'hamda is gone'}\n",
      "{'test': 'hamda is gone'}\n"
     ]
    }
   ],
   "source": [
    "print(borg.__dict__)\n",
    "print(borg2.__dict__)"
   ]
  },
  {
   "cell_type": "code",
   "execution_count": 25,
   "metadata": {},
   "outputs": [],
   "source": [
    "borg.__dict__['test'] = \"hamda is gone\""
   ]
  },
  {
   "cell_type": "code",
   "execution_count": 39,
   "metadata": {},
   "outputs": [
    {
     "data": {
      "text/plain": [
       "'hamda is gone'"
      ]
     },
     "execution_count": 39,
     "metadata": {},
     "output_type": "execute_result"
    }
   ],
   "source": [
    "borg._shared_borg_state['test']"
   ]
  },
  {
   "cell_type": "code",
   "execution_count": null,
   "metadata": {},
   "outputs": [],
   "source": [
    "borg = BorgSingleton()\n",
    "borg.shared_variable = \"Shared Variable\"\n",
    " \n",
    "class ChildBorg(BorgSingleton):\n",
    "  pass\n",
    " \n",
    "childBorg = ChildBorg()\n",
    "print(childBorg is borg)\n",
    "print(childBorg.shared_variable)"
   ]
  },
  {
   "cell_type": "markdown",
   "metadata": {},
   "source": [
    "# Sinleton Tial"
   ]
  },
  {
   "cell_type": "markdown",
   "metadata": {},
   "source": [
    "# PROS:\n",
    "\n",
    "* https://www.geeksforgeeks.org/singleton-pattern-in-python-a-complete-guide/\n",
    "\n",
    "* To limit concurrent access to a shared resource.\n",
    "* To create a global point of access for a resource.\n",
    "* To create just one instance of a class, throughout the lifetime of a program.\n",
    "\n",
    "### Use cases of a Singleton:\n",
    "\n",
    "\n",
    "1. ***Managing a database connection***\n",
    "2. Global point access to writing log messages\n",
    "3. File Manager\n",
    "4. Print spooler\n"
   ]
  },
  {
   "cell_type": "code",
   "execution_count": 68,
   "metadata": {},
   "outputs": [],
   "source": [
    "# singlton trial\n",
    "from enum import Enum\n",
    "\n",
    "class Engine(Enum):\n",
    "    MySQL = 1\n",
    "    MSSQL = 2\n",
    "    NoSQL = 3\n",
    "    Firebase = 4\n",
    "    \n",
    "\n",
    "class Configurator(object):\n",
    "    \n",
    "    _instances = {}\n",
    "    def __new__(cls):\n",
    "        if cls not in cls._instances:\n",
    "            print(\"Object created for the first and only time.\")\n",
    "            cls._instances[cls] = super(Configurator, cls).__new__(cls)\n",
    "        return cls._instances[cls]\n",
    "\n",
    "    \n",
    "    # def __init__(self,engine_enum):\n",
    "    #     print(\"Chosen Engine No. is: \" , engine_enum.value , \"Chosen Enginer Name is: \", engine_enum.name )\n",
    "        \n",
    "            \n",
    "        \n",
    "         \n",
    "        \n",
    "    \n"
   ]
  },
  {
   "cell_type": "code",
   "execution_count": 72,
   "metadata": {},
   "outputs": [],
   "source": [
    "class subclassingConfigurator(Configurator):\n",
    "    pass"
   ]
  },
  {
   "cell_type": "code",
   "execution_count": 69,
   "metadata": {},
   "outputs": [
    {
     "name": "stdout",
     "output_type": "stream",
     "text": [
      "Object created for the first and only time.\n"
     ]
    },
    {
     "data": {
      "text/plain": [
       "2760318138880"
      ]
     },
     "execution_count": 69,
     "metadata": {},
     "output_type": "execute_result"
    }
   ],
   "source": [
    "c1 = Configurator()\n",
    "c1._instances\n",
    "id(c1)\n",
    "\n"
   ]
  },
  {
   "cell_type": "code",
   "execution_count": 71,
   "metadata": {},
   "outputs": [
    {
     "data": {
      "text/plain": [
       "2760318138880"
      ]
     },
     "execution_count": 71,
     "metadata": {},
     "output_type": "execute_result"
    }
   ],
   "source": [
    "c2 = Configurator()\n",
    "id(c2)\n"
   ]
  },
  {
   "cell_type": "markdown",
   "metadata": {},
   "source": [
    "# CONS: This is why the singleton is an antirepattern (like arjan said)\n",
    "* https://www.youtube.com/watch?v=Rm4JP7JfsKY&t=359s"
   ]
  },
  {
   "cell_type": "code",
   "execution_count": 73,
   "metadata": {},
   "outputs": [
    {
     "name": "stdout",
     "output_type": "stream",
     "text": [
      "Object created for the first and only time.\n"
     ]
    }
   ],
   "source": [
    "c3 = subclassingConfigurator() \n",
    "\"\"\"\n",
    "\n",
    "# the issue is here is if the singleton class is subclasssed, and an objbect is creatd out of this subclass, it will be a branch new object \n",
    "# \"\"\""
   ]
  }
 ],
 "metadata": {
  "kernelspec": {
   "display_name": "Python 3.8.8 ('base')",
   "language": "python",
   "name": "python3"
  },
  "language_info": {
   "codemirror_mode": {
    "name": "ipython",
    "version": 3
   },
   "file_extension": ".py",
   "mimetype": "text/x-python",
   "name": "python",
   "nbconvert_exporter": "python",
   "pygments_lexer": "ipython3",
   "version": "3.8.8"
  },
  "orig_nbformat": 4,
  "vscode": {
   "interpreter": {
    "hash": "f95992ca7281af48fd1c643f23306e3513faf94ded38def59d2370c7173835ed"
   }
  }
 },
 "nbformat": 4,
 "nbformat_minor": 2
}
