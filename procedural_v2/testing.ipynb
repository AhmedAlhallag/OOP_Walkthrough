{
 "cells": [
  {
   "cell_type": "code",
   "execution_count": 2,
   "metadata": {},
   "outputs": [
    {
     "name": "stdout",
     "output_type": "stream",
     "text": [
      "[{'un': 'ahmedhallag', 'ps': 123}, {'un': 'haidy', 'ps': '123'}]\n"
     ]
    }
   ],
   "source": [
    "import json\n",
    "\n",
    "\n",
    "with open('user.json','r') as file: \n",
    "    data =  json.load(file)\n",
    "    \n",
    "print(data)"
   ]
  },
  {
   "cell_type": "code",
   "execution_count": 3,
   "metadata": {},
   "outputs": [],
   "source": [
    "\n",
    "\"\"\"\n",
    "NOTE: you would not need to specify a table as an  argument to the findByUn function (or any CRUD)\n",
    "since idealy,  you would a DAO for each table, so the table can be either set via the constructor, or via a connection function\n",
    "\"\"\"\n",
    "\n",
    "# How can we improve this to search for any column?\n",
    "def findByUn(un, alist):\n",
    "    # Note: kda kda the list will be fetched by a SELECT * FROM  <TABLE>\n",
    "    # so in procedural: either pass iit to arg\n",
    "    # or READ it wtithing the arg --> i think this would be the solution to go for \n",
    "    # or access it from a global var \n",
    "    # in OOP -->  an instance variable does the trick\n",
    "    for i, row in enumerate(alist):\n",
    "        if row['un'] == un:\n",
    "            return i \n",
    "    return -1\n",
    "        \n",
    "    "
   ]
  },
  {
   "cell_type": "code",
   "execution_count": 6,
   "metadata": {},
   "outputs": [
    {
     "data": {
      "text/plain": [
       "1"
      ]
     },
     "execution_count": 6,
     "metadata": {},
     "output_type": "execute_result"
    }
   ],
   "source": [
    "findByUn('haidy', data)"
   ]
  },
  {
   "cell_type": "code",
   "execution_count": 10,
   "metadata": {},
   "outputs": [
    {
     "data": {
      "text/plain": [
       "1"
      ]
     },
     "execution_count": 10,
     "metadata": {},
     "output_type": "execute_result"
    }
   ],
   "source": [
    "\n",
    "def findBy(key, value, alist):\n",
    "    for i, row in enumerate(alist):\n",
    "        if row[key] == value:\n",
    "            return i \n",
    "    return -1\n",
    "\n",
    "\n",
    "findBy('un','haidy', data)\n"
   ]
  }
 ],
 "metadata": {
  "kernelspec": {
   "display_name": "Python 3.8.8 ('base')",
   "language": "python",
   "name": "python3"
  },
  "language_info": {
   "codemirror_mode": {
    "name": "ipython",
    "version": 3
   },
   "file_extension": ".py",
   "mimetype": "text/x-python",
   "name": "python",
   "nbconvert_exporter": "python",
   "pygments_lexer": "ipython3",
   "version": "3.8.8"
  },
  "orig_nbformat": 4,
  "vscode": {
   "interpreter": {
    "hash": "f95992ca7281af48fd1c643f23306e3513faf94ded38def59d2370c7173835ed"
   }
  }
 },
 "nbformat": 4,
 "nbformat_minor": 2
}
